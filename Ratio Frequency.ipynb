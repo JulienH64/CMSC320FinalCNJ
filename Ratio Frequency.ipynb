{
 "cells": [
  {
   "cell_type": "code",
   "execution_count": 1,
   "id": "413415f8-f72c-4753-8079-3f3edf99df4d",
   "metadata": {},
   "outputs": [],
   "source": [
    "import numpy as np\n",
    "import pandas as pd\n",
    "import pickle\n",
    "import matplotlib.pyplot as plt\n",
    "import numpy as np\n",
    "import json\n",
    "import re \n",
    "import time\n",
    "from pandas import json_normalize"
   ]
  },
  {
   "cell_type": "code",
   "execution_count": 12,
   "id": "1b3e07f2-ea90-4cd8-8db0-6b73b6d8c59c",
   "metadata": {},
   "outputs": [
    {
     "name": "stdout",
     "output_type": "stream",
     "text": [
      "<class 'pandas.core.frame.DataFrame'>\n",
      "RangeIndex: 108829 entries, 0 to 108828\n",
      "Data columns (total 17 columns):\n",
      " #   Column                Non-Null Count   Dtype  \n",
      "---  ------                --------------   -----  \n",
      " 0   teamId                108829 non-null  int64  \n",
      " 1   win                   108829 non-null  object \n",
      " 2   firstBlood            108829 non-null  bool   \n",
      " 3   firstTower            108829 non-null  bool   \n",
      " 4   firstInhibitor        108829 non-null  bool   \n",
      " 5   firstBaron            108829 non-null  bool   \n",
      " 6   firstDragon           108829 non-null  bool   \n",
      " 7   firstRiftHerald       108829 non-null  bool   \n",
      " 8   towerKills            108829 non-null  int64  \n",
      " 9   inhibitorKills        108829 non-null  int64  \n",
      " 10  baronKills            108829 non-null  int64  \n",
      " 11  dragonKills           108829 non-null  int64  \n",
      " 12  vilemawKills          108829 non-null  int64  \n",
      " 13  riftHeraldKills       108829 non-null  int64  \n",
      " 14  dominionVictoryScore  108829 non-null  int64  \n",
      " 15  bans                  108829 non-null  object \n",
      " 16  gameId                108829 non-null  float64\n",
      "dtypes: bool(6), float64(1), int64(8), object(2)\n",
      "memory usage: 9.8+ MB\n"
     ]
    }
   ],
   "source": [
    "winner_df =  pd.read_pickle('match_winner_data_version1.pickle')\n",
    "loser_df = pd.read_pickle('match_loser_data_version1.pickle')\n",
    "durations = pd.read_csv(\"Durations.csv\", sep=',')\n",
    "winner_df.info()"
   ]
  },
  {
   "cell_type": "code",
   "execution_count": 15,
   "id": "566c2097-ba97-4401-af9e-1836ea4073a5",
   "metadata": {},
   "outputs": [
    {
     "data": {
      "text/html": [
       "<div>\n",
       "<style scoped>\n",
       "    .dataframe tbody tr th:only-of-type {\n",
       "        vertical-align: middle;\n",
       "    }\n",
       "\n",
       "    .dataframe tbody tr th {\n",
       "        vertical-align: top;\n",
       "    }\n",
       "\n",
       "    .dataframe thead th {\n",
       "        text-align: right;\n",
       "    }\n",
       "</style>\n",
       "<table border=\"1\" class=\"dataframe\">\n",
       "  <thead>\n",
       "    <tr style=\"text-align: right;\">\n",
       "      <th></th>\n",
       "      <th>Unnamed: 0</th>\n",
       "      <th>gameDuration</th>\n",
       "      <th>gameId</th>\n",
       "    </tr>\n",
       "  </thead>\n",
       "  <tbody>\n",
       "    <tr>\n",
       "      <th>0</th>\n",
       "      <td>0</td>\n",
       "      <td>1323.0</td>\n",
       "      <td>4.247263e+09</td>\n",
       "    </tr>\n",
       "    <tr>\n",
       "      <th>1</th>\n",
       "      <td>1</td>\n",
       "      <td>1317.0</td>\n",
       "      <td>4.247156e+09</td>\n",
       "    </tr>\n",
       "    <tr>\n",
       "      <th>2</th>\n",
       "      <td>2</td>\n",
       "      <td>932.0</td>\n",
       "      <td>4.243963e+09</td>\n",
       "    </tr>\n",
       "    <tr>\n",
       "      <th>3</th>\n",
       "      <td>3</td>\n",
       "      <td>2098.0</td>\n",
       "      <td>4.241678e+09</td>\n",
       "    </tr>\n",
       "    <tr>\n",
       "      <th>4</th>\n",
       "      <td>4</td>\n",
       "      <td>2344.0</td>\n",
       "      <td>4.241539e+09</td>\n",
       "    </tr>\n",
       "    <tr>\n",
       "      <th>...</th>\n",
       "      <td>...</td>\n",
       "      <td>...</td>\n",
       "      <td>...</td>\n",
       "    </tr>\n",
       "    <tr>\n",
       "      <th>108824</th>\n",
       "      <td>0</td>\n",
       "      <td>1029.0</td>\n",
       "      <td>4.088497e+09</td>\n",
       "    </tr>\n",
       "    <tr>\n",
       "      <th>108825</th>\n",
       "      <td>0</td>\n",
       "      <td>1544.0</td>\n",
       "      <td>4.130964e+09</td>\n",
       "    </tr>\n",
       "    <tr>\n",
       "      <th>108826</th>\n",
       "      <td>0</td>\n",
       "      <td>2090.0</td>\n",
       "      <td>4.119954e+09</td>\n",
       "    </tr>\n",
       "    <tr>\n",
       "      <th>108827</th>\n",
       "      <td>0</td>\n",
       "      <td>1382.0</td>\n",
       "      <td>4.130440e+09</td>\n",
       "    </tr>\n",
       "    <tr>\n",
       "      <th>108828</th>\n",
       "      <td>0</td>\n",
       "      <td>1432.0</td>\n",
       "      <td>4.225861e+09</td>\n",
       "    </tr>\n",
       "  </tbody>\n",
       "</table>\n",
       "<p>108829 rows × 3 columns</p>\n",
       "</div>"
      ],
      "text/plain": [
       "        Unnamed: 0  gameDuration        gameId\n",
       "0                0        1323.0  4.247263e+09\n",
       "1                1        1317.0  4.247156e+09\n",
       "2                2         932.0  4.243963e+09\n",
       "3                3        2098.0  4.241678e+09\n",
       "4                4        2344.0  4.241539e+09\n",
       "...            ...           ...           ...\n",
       "108824           0        1029.0  4.088497e+09\n",
       "108825           0        1544.0  4.130964e+09\n",
       "108826           0        2090.0  4.119954e+09\n",
       "108827           0        1382.0  4.130440e+09\n",
       "108828           0        1432.0  4.225861e+09\n",
       "\n",
       "[108829 rows x 3 columns]"
      ]
     },
     "execution_count": 15,
     "metadata": {},
     "output_type": "execute_result"
    }
   ],
   "source": [
    "game1w = winner_df[['dragonKills','gameId']].copy()\n",
    "game1l = loser_df[['dragonKills','gameId']].copy()\n",
    "durations"
   ]
  },
  {
   "cell_type": "code",
   "execution_count": 16,
   "id": "d023142e-2bc6-4d98-8d81-ec0fd3f955e1",
   "metadata": {},
   "outputs": [],
   "source": [
    "wd = game1w.merge(durations, left_on='gameId', right_on='gameId')\n",
    "final = wd.merge(game1l, left_on='gameId', right_on='gameId')"
   ]
  },
  {
   "cell_type": "code",
   "execution_count": 22,
   "id": "99e31d69-8a18-4c6c-9e87-9b8b8fd287d2",
   "metadata": {},
   "outputs": [],
   "source": [
    "final['DragDiff'] = final['dragonKills_x'] - final['dragonKills_y']"
   ]
  },
  {
   "cell_type": "code",
   "execution_count": 24,
   "id": "cd07bd24-b9c2-48ab-b8e0-1461c670bd54",
   "metadata": {},
   "outputs": [],
   "source": [
    "final['DragTotal'] = final['dragonKills_x'] + final['dragonKills_y']"
   ]
  },
  {
   "cell_type": "code",
   "execution_count": 29,
   "id": "0b2346fa-d724-458f-8c8e-77ac87f5261a",
   "metadata": {},
   "outputs": [],
   "source": [
    "final['Ratio'] = final['DragDiff']/final['DragTotal']"
   ]
  },
  {
   "cell_type": "code",
   "execution_count": 38,
   "id": "dc0ab3b8-7383-4cd0-9628-937d2b164e97",
   "metadata": {},
   "outputs": [
    {
     "data": {
      "text/plain": [
       " 1.000000    39801\n",
       " 0.000000    13059\n",
       " 0.333333    11101\n",
       " 0.500000     7916\n",
       "-0.333333     4554\n",
       " 0.600000     3812\n",
       " 0.200000     3491\n",
       "-1.000000     3154\n",
       "-0.500000     2637\n",
       "-0.200000     2544\n",
       "-0.600000      737\n",
       " 0.666667      357\n",
       " 0.142857      220\n",
       "-0.142857      110\n",
       " 0.428571       91\n",
       "-0.666667       43\n",
       " 0.714286       15\n",
       "-0.428571       13\n",
       " 0.250000        7\n",
       "-0.250000        4\n",
       "-0.714286        3\n",
       " 0.111111        1\n",
       "Name: Ratio, dtype: int64"
      ]
     },
     "execution_count": 38,
     "metadata": {},
     "output_type": "execute_result"
    }
   ],
   "source": [
    "freqs = final['Ratio'].value_counts(dropna=True)\n",
    "freqs"
   ]
  },
  {
   "cell_type": "code",
   "execution_count": 26,
   "id": "fbdbdcb8-6a96-4cd7-a628-931080a92525",
   "metadata": {},
   "outputs": [
    {
     "data": {
      "image/png": "[encoded data removed]",
      "text/plain": [
       "<Figure size 432x288 with 1 Axes>"
      ]
     },
     "metadata": {
      "needs_background": "light"
     },
     "output_type": "display_data"
    }
   ],
   "source": [
    "ax1 = final.plot.scatter(x='DragDiff', y='DragTotal')"
   ]
  },
  {
   "cell_type": "code",
   "execution_count": 28,
   "id": "4d8d6dc1-eef1-4dec-b455-df35e112506e",
   "metadata": {},
   "outputs": [
    {
     "data": {
      "image/png": "[encoded data removed]",
      "text/plain": [
       "<Figure size 432x288 with 1 Axes>"
      ]
     },
     "metadata": {
      "needs_background": "light"
     },
     "output_type": "display_data"
    }
   ],
   "source": [
    "ax1 = final.plot.scatter(x='DragTotal', y='DragDiff')"
   ]
  },
  {
   "cell_type": "code",
   "execution_count": 44,
   "id": "21616159-e8c1-4c65-a887-2a6df16b780c",
   "metadata": {},
   "outputs": [
    {
     "data": {
      "text/plain": [
       "<AxesSubplot:>"
      ]
     },
     "execution_count": 44,
     "metadata": {},
     "output_type": "execute_result"
    },
    {
     "data": {
      "image/png": "[encoded data removed]",
      "text/plain": [
       "<Figure size 432x288 with 1 Axes>"
      ]
     },
     "metadata": {
      "needs_background": "light"
     },
     "output_type": "display_data"
    }
   ],
   "source": [
    "final.Ratio.value_counts().sort_index(ascending=True).plot(kind = 'bar')"
   ]
  },
  {
   "cell_type": "code",
   "execution_count": null,
   "id": "6728efb0-45ff-4655-99e7-f85e924717a5",
   "metadata": {},
   "outputs": [],
   "source": []
  }
 ],
 "metadata": {
  "kernelspec": {
   "display_name": "Python 3 (ipykernel)",
   "language": "python",
   "name": "python3"
  },
  "language_info": {
   "codemirror_mode": {
    "name": "ipython",
    "version": 3
   },
   "file_extension": ".py",
   "mimetype": "text/x-python",
   "name": "python",
   "nbconvert_exporter": "python",
   "pygments_lexer": "ipython3",
   "version": "3.9.7"
  }
 },
 "nbformat": 4,
 "nbformat_minor": 5
}

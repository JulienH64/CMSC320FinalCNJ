{
 "cells": [
  {
   "cell_type": "code",
   "execution_count": 28,
   "id": "6eaa3a07-9e83-46c1-9438-e4158059873c",
   "metadata": {},
   "outputs": [],
   "source": [
    "import numpy as np\n",
    "import pandas as pd\n",
    "import pickle\n",
    "import matplotlib.pyplot as plt\n",
    "import numpy as np\n",
    "import json\n",
    "import re \n",
    "import time\n",
    "from pandas import json_normalize"
   ]
  },
  {
   "cell_type": "code",
   "execution_count": 3,
   "id": "8bfad2e6-07bb-4c9e-a02c-d4a8edfd8d15",
   "metadata": {},
   "outputs": [],
   "source": [
    "match_df = pd.read_pickle('match_data_version1.pickle')\n",
    "winner_df =  pd.read_pickle('match_winner_data_version1.pickle')\n",
    "loser_df = pd.read_pickle('match_loser_data_version1.pickle')"
   ]
  },
  {
   "cell_type": "code",
   "execution_count": 4,
   "id": "cf2b4f8a-0b7b-4e4e-96bf-9e40832b9412",
   "metadata": {},
   "outputs": [
    {
     "name": "stdout",
     "output_type": "stream",
     "text": [
      "<class 'pandas.core.frame.DataFrame'>\n",
      "Int64Index: 108829 entries, 0 to 0\n",
      "Data columns (total 14 columns):\n",
      " #   Column                 Non-Null Count   Dtype  \n",
      "---  ------                 --------------   -----  \n",
      " 0   gameCreation           108829 non-null  float64\n",
      " 1   gameDuration           108829 non-null  float64\n",
      " 2   gameId                 108829 non-null  float64\n",
      " 3   gameMode               108829 non-null  object \n",
      " 4   gameType               108829 non-null  object \n",
      " 5   gameVersion            108829 non-null  object \n",
      " 6   mapId                  108829 non-null  float64\n",
      " 7   participantIdentities  108829 non-null  object \n",
      " 8   participants           108829 non-null  object \n",
      " 9   platformId             108829 non-null  object \n",
      " 10  queueId                108829 non-null  float64\n",
      " 11  seasonId               108829 non-null  float64\n",
      " 12  status.message         0 non-null       object \n",
      " 13  status.status_code     0 non-null       float64\n",
      "dtypes: float64(7), object(7)\n",
      "memory usage: 12.5+ MB\n"
     ]
    }
   ],
   "source": [
    "match_df.info()"
   ]
  },
  {
   "cell_type": "code",
   "execution_count": 52,
   "id": "b7f954ba-8ffc-4c0a-99c6-e6c12fde49eb",
   "metadata": {},
   "outputs": [],
   "source": [
    "game1w = winner_df.iloc[0]\n",
    "game1l = loser_df.iloc[0]"
   ]
  },
  {
   "cell_type": "code",
   "execution_count": 54,
   "id": "8fc5d740-2aea-4d6b-9bb6-e379185681f8",
   "metadata": {},
   "outputs": [
    {
     "data": {
      "text/plain": [
       "teamId                                                                200\n",
       "win                                                                   Win\n",
       "firstBlood                                                          False\n",
       "firstTower                                                           True\n",
       "firstInhibitor                                                       True\n",
       "firstBaron                                                          False\n",
       "firstDragon                                                          True\n",
       "firstRiftHerald                                                      True\n",
       "towerKills                                                              9\n",
       "inhibitorKills                                                          1\n",
       "baronKills                                                              0\n",
       "dragonKills                                                             3\n",
       "vilemawKills                                                            0\n",
       "riftHeraldKills                                                         2\n",
       "dominionVictoryScore                                                    0\n",
       "bans                    [{'championId': 523, 'pickTurn': 6}, {'champio...\n",
       "gameId                                                       4247263043.0\n",
       "Name: 0, dtype: object"
      ]
     },
     "execution_count": 54,
     "metadata": {},
     "output_type": "execute_result"
    }
   ],
   "source": [
    "game1w"
   ]
  },
  {
   "cell_type": "code",
   "execution_count": 55,
   "id": "56d201c7-0b85-4da9-af86-db49db03c686",
   "metadata": {},
   "outputs": [
    {
     "data": {
      "text/plain": [
       "teamId                                                                100\n",
       "win                                                                  Fail\n",
       "firstBlood                                                           True\n",
       "firstTower                                                          False\n",
       "firstInhibitor                                                      False\n",
       "firstBaron                                                          False\n",
       "firstDragon                                                         False\n",
       "firstRiftHerald                                                     False\n",
       "towerKills                                                              0\n",
       "inhibitorKills                                                          0\n",
       "baronKills                                                              0\n",
       "dragonKills                                                             0\n",
       "vilemawKills                                                            0\n",
       "riftHeraldKills                                                         0\n",
       "dominionVictoryScore                                                    0\n",
       "bans                    [{'championId': -1, 'pickTurn': 1}, {'champion...\n",
       "gameId                                                       4247263043.0\n",
       "Name: 0, dtype: object"
      ]
     },
     "execution_count": 55,
     "metadata": {},
     "output_type": "execute_result"
    }
   ],
   "source": [
    "game1l"
   ]
  },
  {
   "cell_type": "code",
   "execution_count": null,
   "id": "d1090255-bffc-4b1d-b93a-7bb6feaab2b0",
   "metadata": {},
   "outputs": [],
   "source": []
  }
 ],
 "metadata": {
  "kernelspec": {
   "display_name": "Python 3 (ipykernel)",
   "language": "python",
   "name": "python3"
  },
  "language_info": {
   "codemirror_mode": {
    "name": "ipython",
    "version": 3
   },
   "file_extension": ".py",
   "mimetype": "text/x-python",
   "name": "python",
   "nbconvert_exporter": "python",
   "pygments_lexer": "ipython3",
   "version": "3.9.7"
  }
 },
 "nbformat": 4,
 "nbformat_minor": 5
}
